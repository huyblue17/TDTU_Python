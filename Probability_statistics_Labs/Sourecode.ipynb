{
  "cells": [
    {
      "cell_type": "code",
      "source": [
        "from statistics import mean #Them chuc nang cua ham tu thu vien\n",
        "\n",
        "dulieu = [1, 3, 7, 9, 10] #Tao 1 tep du lieu chua cac tham so\n",
        "\n",
        "ketqua = mean(dulieu)\n",
        "\n",
        "print(\"Trung binh cong:\", ketqua)"
      ],
      "metadata": {
        "colab": {
          "base_uri": "https://localhost:8080/"
        },
        "id": "vjhJnEuVFR1Q",
        "outputId": "1fd8fd6c-5b5c-4ff9-f5f9-f45f3a21dd17"
      },
      "execution_count": null,
      "outputs": [
        {
          "output_type": "stream",
          "name": "stdout",
          "text": [
            "Trung binh cong: 6\n"
          ]
        }
      ]
    },
    {
      "cell_type": "code",
      "source": [
        "from statistics import fmean #Them ham fmean\n",
        "\n",
        "dulieu = [21, 5, 17, 10, 5] #Them kieu du lieu\n",
        "\n",
        "ketqua = fmean(dulieu)\n",
        "\n",
        "print(\"trung binh cong: \", ketqua)"
      ],
      "metadata": {
        "colab": {
          "base_uri": "https://localhost:8080/"
        },
        "id": "j2nOpcRgFRxz",
        "outputId": "607475b8-d7e7-41f7-c3c4-6fede3ba0d95"
      },
      "execution_count": null,
      "outputs": [
        {
          "output_type": "stream",
          "name": "stdout",
          "text": [
            "trung binh cong:  11.6\n"
          ]
        }
      ]
    },
    {
      "cell_type": "code",
      "source": [
        "from statistics import geometric_mean #Them ham geo\n",
        "\n",
        "dulieu = [13, 12, 6, 20] #Tao kieu du lieu\n",
        "\n",
        "ketqua = round(geometric_mean(dulieu)) #Su dung round de lam tron den so nguyen\n",
        "\n",
        "print(\"Trung binh hinh hoc: \", ketqua)"
      ],
      "metadata": {
        "id": "amCbQk5BFRqZ",
        "colab": {
          "base_uri": "https://localhost:8080/"
        },
        "outputId": "3db338d4-9a79-4e16-de87-fbf447b1eead"
      },
      "execution_count": null,
      "outputs": [
        {
          "output_type": "stream",
          "name": "stdout",
          "text": [
            "Trung binh hinh hoc:  12\n"
          ]
        }
      ]
    },
    {
      "cell_type": "markdown",
      "source": [],
      "metadata": {
        "id": "z1KUIdZwrjOu"
      }
    },
    {
      "cell_type": "code",
      "source": [
        "from statistics import harmonic_mean #Them ham harmonic\n",
        "\n",
        "dulieu = [12, 5, 7, 3, 19] #Tao kieu du lieu\n",
        "\n",
        "ketqua = round(harmonic_mean(dulieu)) #Su dung round de lam tron den so nguyen\n",
        "\n",
        "print(\"Trung binh dieu hoa: \", ketqua)"
      ],
      "metadata": {
        "id": "sHkbrkhLFRlT",
        "colab": {
          "base_uri": "https://localhost:8080/"
        },
        "outputId": "435601f1-fabf-4494-b19e-73665fcb26bd"
      },
      "execution_count": null,
      "outputs": [
        {
          "output_type": "stream",
          "name": "stdout",
          "text": [
            "Trung binh dieu hoa:  6\n"
          ]
        }
      ]
    },
    {
      "cell_type": "code",
      "source": [
        "from statistics import median_high #Them ham median_high\n",
        "\n",
        "dulieu = [1, 2, 18, 19, 45, 56] #Tao kieu du lieu\n",
        "\n",
        "ketqua = median_high(dulieu)\n",
        "\n",
        "print(\"trung binh tang dan: \", ketqua)"
      ],
      "metadata": {
        "id": "xOD_VgCvFRXg",
        "colab": {
          "base_uri": "https://localhost:8080/"
        },
        "outputId": "7c0e5d0e-ef56-4ddd-a6fe-bb33ddb4da17"
      },
      "execution_count": null,
      "outputs": [
        {
          "output_type": "stream",
          "name": "stdout",
          "text": [
            "trung binh tang dan:  19\n"
          ]
        }
      ]
    },
    {
      "cell_type": "code",
      "source": [
        "from statistics import median_grouped #Them ham median_group\n",
        "\n",
        "dulieu = [11, 15, 23, 45] #Tao kieu du lieu\n",
        "khoang = 5 #kich thuoc khoang\n",
        "\n",
        "ketqua = median_grouped(dulieu, khoang)\n",
        "\n",
        "print(\"Trung vi nhom: \", ketqua)"
      ],
      "metadata": {
        "colab": {
          "base_uri": "https://localhost:8080/"
        },
        "id": "etAPEtsttZGG",
        "outputId": "3c906a63-aa8f-45ce-e160-f9563968045f"
      },
      "execution_count": null,
      "outputs": [
        {
          "output_type": "stream",
          "name": "stdout",
          "text": [
            "Trung vi nhom:  20.5\n"
          ]
        }
      ]
    },
    {
      "cell_type": "code",
      "source": [
        "from statistics import mode #Tao ham mode\n",
        "\n",
        "dulieu = [12, 6, 5, 20, 56] #Tao kieu du lieu\n",
        "\n",
        "ketqua = mode(dulieu)\n",
        "\n",
        "print(\"Trung binh khoang: \", ketqua)"
      ],
      "metadata": {
        "colab": {
          "base_uri": "https://localhost:8080/"
        },
        "id": "0A-RehrHHmaQ",
        "outputId": "2c83fe42-7668-4b8a-ce42-04142a07e50b"
      },
      "execution_count": 1,
      "outputs": [
        {
          "output_type": "stream",
          "name": "stdout",
          "text": [
            "Trung binh khoang:  12\n"
          ]
        }
      ]
    },
    {
      "cell_type": "code",
      "source": [
        "from statistics import multimode #Tao ham multimode\n",
        "\n",
        "dulieu = [12, 16, 5, 16, 56, 20, 56] #Tao kieu du lieu\n",
        "\n",
        "ketqua = multimode(dulieu)\n",
        "\n",
        "print(\"Trung binh khoang: \", ketqua)"
      ],
      "metadata": {
        "colab": {
          "base_uri": "https://localhost:8080/"
        },
        "id": "layiNk_JHpCV",
        "outputId": "a354416c-e860-47fe-9359-125245c59406"
      },
      "execution_count": 2,
      "outputs": [
        {
          "output_type": "stream",
          "name": "stdout",
          "text": [
            "Trung binh khoang:  [16, 56]\n"
          ]
        }
      ]
    },
    {
      "cell_type": "code",
      "source": [
        "from statistics import quantiles #Tao ham quantiles\n",
        "\n",
        "dulieu = [12, 16, 5, 16, 56, 20, 56] #Tao kieu du lieu\n",
        "\n",
        "ketqua = quantiles(dulieu)\n",
        "\n",
        "print(\"Trung binh khoang: \", ketqua)"
      ],
      "metadata": {
        "id": "gLewZU0tFRNQ",
        "colab": {
          "base_uri": "https://localhost:8080/"
        },
        "outputId": "600377bd-2517-4793-a996-4e325fdea781"
      },
      "execution_count": null,
      "outputs": [
        {
          "output_type": "stream",
          "name": "stdout",
          "text": [
            "Trung binh nhieu nhat:  [12.0, 16.0, 56.0]\n"
          ]
        }
      ]
    },
    {
      "cell_type": "code",
      "source": [
        "from statistics import pstdev #Them ham tinh do lech\n",
        "\n",
        "dulieu = [10, 20, 30, 40, 50] #Du lieu dan so\n",
        "\n",
        "ketqua = pstdev(dulieu)\n",
        "\n",
        "print(\"Do lech chuan dan so:\", ketqua)"
      ],
      "metadata": {
        "id": "J4FiuEzlFQyX",
        "colab": {
          "base_uri": "https://localhost:8080/"
        },
        "outputId": "72eb4da5-4aff-4edc-a5f9-0cc5ae14ddc9"
      },
      "execution_count": null,
      "outputs": [
        {
          "output_type": "stream",
          "name": "stdout",
          "text": [
            "Do lech chuan dan so: 14.142135623730951\n"
          ]
        }
      ]
    },
    {
      "cell_type": "code",
      "source": [
        "from statistics import pvariance #Them ham tinh do lech\n",
        "\n",
        "dulieu = [12, 22, 36, 40, 55] #Du lieu dan so\n",
        "\n",
        "ketqua = pvariance(dulieu)\n",
        "\n",
        "print(\"Do lech chuan dan so:\", ketqua)"
      ],
      "metadata": {
        "colab": {
          "base_uri": "https://localhost:8080/"
        },
        "id": "TMBqsXxTAZze",
        "outputId": "1d573ba5-eea5-4a1f-e34b-3af8d9ab30cd"
      },
      "execution_count": null,
      "outputs": [
        {
          "output_type": "stream",
          "name": "stdout",
          "text": [
            "Do lech chuan dan so: 220.8\n"
          ]
        }
      ]
    },
    {
      "cell_type": "code",
      "source": [
        "from statistics import stdev #Them ham tinh do lech chuan\n",
        "\n",
        "dulieu = [11, 23, 48, 56, 66] #Du lieu gtri mau\n",
        "\n",
        "ketqua = stdev(dulieu)\n",
        "\n",
        "print(\"Do lech chuan cua mau:\", ketqua)"
      ],
      "metadata": {
        "colab": {
          "base_uri": "https://localhost:8080/"
        },
        "id": "u9_B7XP0AZvg",
        "outputId": "35ace0f8-a7bc-4b19-e525-9583877d3f03"
      },
      "execution_count": null,
      "outputs": [
        {
          "output_type": "stream",
          "name": "stdout",
          "text": [
            "Do lech chuan cua mau: 23.03692687838376\n"
          ]
        }
      ]
    },
    {
      "cell_type": "code",
      "source": [
        "from statistics import variance #Them ham tinh phuong sai cua mau\n",
        "\n",
        "dulieu = [11, 23, 48, 56, 66] #Du lieu gtri mau\n",
        "\n",
        "ketqua = variance(dulieu)\n",
        "\n",
        "print(\"Do lech chuan cua mau:\", ketqua)"
      ],
      "metadata": {
        "colab": {
          "base_uri": "https://localhost:8080/"
        },
        "id": "BitmUErJAZsN",
        "outputId": "764c40f7-e679-4e7a-d38f-b610105a9f6d"
      },
      "execution_count": null,
      "outputs": [
        {
          "output_type": "stream",
          "name": "stdout",
          "text": [
            "Do lech chuan cua mau: 530.7\n"
          ]
        }
      ]
    },
    {
      "cell_type": "code",
      "source": [
        "from statistics import covariance #Them ham tinh do lech chung 2 bien\n",
        "\n",
        "a = [11, 23, 48, 56, 66] #Gia tri a\n",
        "\n",
        "b = [4, 15, 48, 26, 35] #Gia tri b\n",
        "\n",
        "ketqua = covariance(a, b)\n",
        "\n",
        "print(\"Do lech chung: \", ketqua)"
      ],
      "metadata": {
        "colab": {
          "base_uri": "https://localhost:8080/"
        },
        "id": "mUhKdAQRAZpY",
        "outputId": "396c5c28-34ec-441d-f565-192c17c613a6"
      },
      "execution_count": null,
      "outputs": [
        {
          "output_type": "stream",
          "name": "stdout",
          "text": [
            "Do lech chung:  309.15\n"
          ]
        }
      ]
    },
    {
      "cell_type": "code",
      "source": [
        "from statistics import correlation #Them ham tinh he so tuong quan\n",
        "\n",
        "a = [3, 43, 38, 16, 11] #Gia tri a\n",
        "\n",
        "b = [6, 35, 37, 39, 45] #Gia tri b\n",
        "\n",
        "ketqua = correlation(a, b)\n",
        "\n",
        "print(\"He so tuong quan: \", ketqua)"
      ],
      "metadata": {
        "colab": {
          "base_uri": "https://localhost:8080/"
        },
        "id": "CW7E5QxuAZmt",
        "outputId": "9304708e-3c16-4e78-9329-bba68e20c49a"
      },
      "execution_count": null,
      "outputs": [
        {
          "output_type": "stream",
          "name": "stdout",
          "text": [
            "He so tuong quan:  0.42551495686259305\n"
          ]
        }
      ]
    },
    {
      "cell_type": "code",
      "source": [
        "from statistics import linear_regression #Them ham tinh he so giao\n",
        "\n",
        "a = [3, 15, 29, 31, 43] #Gia tri a\n",
        "\n",
        "b = [1, 32, 55, 21, 67] #Gia tri b\n",
        "\n",
        "ketqua = linear_regression(a, b)\n",
        "\n",
        "print(\"He so giao: \", ketqua)"
      ],
      "metadata": {
        "colab": {
          "base_uri": "https://localhost:8080/"
        },
        "id": "QU2z7IbIAZjs",
        "outputId": "248d5eae-45b3-48da-a09f-582e34a84ab1"
      },
      "execution_count": null,
      "outputs": [
        {
          "output_type": "stream",
          "name": "stdout",
          "text": [
            "Do lech chung:  LinearRegression(slope=1.4117892976588626, intercept=1.0346989966555284)\n"
          ]
        }
      ]
    },
    {
      "cell_type": "code",
      "source": [],
      "metadata": {
        "id": "Dp2RjWFFAZb3"
      },
      "execution_count": null,
      "outputs": []
    }
  ],
  "metadata": {
    "colab": {
      "provenance": []
    },
    "kernelspec": {
      "display_name": "Python 3",
      "name": "python3"
    },
    "language_info": {
      "name": "python"
    }
  },
  "nbformat": 4,
  "nbformat_minor": 0
}